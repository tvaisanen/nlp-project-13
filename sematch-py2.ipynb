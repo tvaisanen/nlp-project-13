{
 "cells": [
  {
   "cell_type": "code",
   "execution_count": 149,
   "metadata": {},
   "outputs": [],
   "source": [
    "from nltk.tokenize import sent_tokenize, word_tokenize\n",
    "from sematch.semantic.similarity import YagoTypeSimilarity\n",
    "from sematch.semantic.graph import DBpediaDataTransform, Taxonomy\n",
    "from sematch.semantic.similarity import ConceptSimilarity\n",
    "import numpy as np\n",
    "import scipy as sc"
   ]
  },
  {
   "cell_type": "code",
   "execution_count": 62,
   "metadata": {},
   "outputs": [],
   "source": [
    "stopwords = nltk.corpus.stopwords.words('english')\n",
    "swset = set(stopwords)\n",
    "sim = YagoTypeSimilarity()\n",
    "concept = ConceptSimilarity(Taxonomy(DBpediaDataTransform()),'models/dbpedia_type_ic.txt')"
   ]
  },
  {
   "cell_type": "code",
   "execution_count": 71,
   "metadata": {},
   "outputs": [],
   "source": [
    "from sematch.semantic.similarity import WordNetSimilarity\n",
    "wns = WordNetSimilarity()\n",
    "\n",
    "\n"
   ]
  },
  {
   "cell_type": "code",
   "execution_count": null,
   "metadata": {},
   "outputs": [],
   "source": []
  },
  {
   "cell_type": "code",
   "execution_count": null,
   "metadata": {},
   "outputs": [],
   "source": []
  },
  {
   "cell_type": "code",
   "execution_count": 5,
   "metadata": {},
   "outputs": [
    {
     "data": {
      "text/plain": [
       "0.14285714285714285"
      ]
     },
     "execution_count": 5,
     "metadata": {},
     "output_type": "execute_result"
    }
   ],
   "source": []
  },
  {
   "cell_type": "code",
   "execution_count": 2,
   "metadata": {},
   "outputs": [
    {
     "data": {
      "text/plain": [
       "0.0"
      ]
     },
     "execution_count": 2,
     "metadata": {},
     "output_type": "execute_result"
    }
   ],
   "source": [
    "sim.yago_similarity('http://dbpedia.org/class/yago/Car','http://dbpedia.org/class/yago/Automobile', 'wpath') #0.544"
   ]
  },
  {
   "cell_type": "code",
   "execution_count": 3,
   "metadata": {},
   "outputs": [],
   "source": [
    "from sematch.application import Matcher\n",
    "matcher = Matcher()"
   ]
  },
  {
   "cell_type": "code",
   "execution_count": 75,
   "metadata": {},
   "outputs": [
    {
     "data": {
      "text/plain": [
       "[]"
      ]
     },
     "execution_count": 75,
     "metadata": {},
     "output_type": "execute_result"
    }
   ],
   "source": [
    "matcher.match_concepts('Car')"
   ]
  },
  {
   "cell_type": "code",
   "execution_count": 47,
   "metadata": {},
   "outputs": [],
   "source": [
    "def load_stss131():\n",
    "    import csv\n",
    "    f = open('datasets/stss-131/stss.csv', 'r')\n",
    "    reader = csv.reader(f, delimiter=';')\n",
    "    rows = []\n",
    "    for row in reader: rows.append(row)\n",
    "    return rows\n",
    "\n",
    "def tokenize(sentence,swset):\n",
    "    return [w for w in word_tokenize(sentence) if w not in swset]"
   ]
  },
  {
   "cell_type": "code",
   "execution_count": 13,
   "metadata": {},
   "outputs": [],
   "source": [
    "stss131 = load_stss131()"
   ]
  },
  {
   "cell_type": "code",
   "execution_count": 135,
   "metadata": {},
   "outputs": [],
   "source": [
    "a = stss131[0][1]\n",
    "b = stss131[0][2]\n",
    "\n",
    "def yagonize(sentence):\n",
    "    yagos = []\n",
    "    for word in tokenize(sentence, swset):\n",
    "        yago_a_options = sim.word2yago(word)\n",
    "        yago_a = yago_a_options[0] if len(yago_a_options) > 0 else False\n",
    "        if yago_a:\n",
    "            yagos.append(yago_a)\n",
    "    return yagos\n",
    "\n",
    "def compare_yagos(a,b, method='wpath'):\n",
    "    yagos = dict()\n",
    "    \n",
    "    for y_a in a:    \n",
    "        results_y_a = list()\n",
    "        \n",
    "        for y_b in b:\n",
    "            results_y_a.append(sim.yago_similarity(y_a,y_b, method))\n",
    "            \n",
    "        yagos[y_a] = results_y_a\n",
    "        \n",
    "    return yagos\n",
    "\n",
    "def yago_mean(r):\n",
    "    m = list()\n",
    "    for k,v in r.iteritems():\n",
    "        m.append(max(v))\n",
    "    return np.mean(m)\n",
    "        \n",
    "results_a_to_b = compare_yagos(yagonize(a),yagonize(b))"
   ]
  },
  {
   "cell_type": "code",
   "execution_count": 128,
   "metadata": {},
   "outputs": [
    {
     "name": "stdout",
     "output_type": "stream",
     "text": [
      "http://dbpedia.org/class/yago/Drink107885223\n",
      "http://dbpedia.org/class/yago/Go115292069\n",
      "http://dbpedia.org/class/yago/Like105845888\n",
      "http://dbpedia.org/class/yago/Tonight115263045\n"
     ]
    },
    {
     "data": {
      "text/plain": [
       "0.576759025027096"
      ]
     },
     "execution_count": 128,
     "metadata": {},
     "output_type": "execute_result"
    }
   ],
   "source": [
    "def yago_mean(r):\n",
    "    m = list()\n",
    "    for k,v in r.iteritems():\n",
    "        m.append(max(v))\n",
    "    return np.mean(m)"
   ]
  },
  {
   "cell_type": "code",
   "execution_count": 129,
   "metadata": {},
   "outputs": [],
   "source": [
    "results_b_to_a = compare_yagos(yagonize(b), yagonize(a))"
   ]
  },
  {
   "cell_type": "code",
   "execution_count": 130,
   "metadata": {},
   "outputs": [
    {
     "name": "stdout",
     "output_type": "stream",
     "text": [
      "http://dbpedia.org/class/yago/Might105030680\n",
      "http://dbpedia.org/class/yago/Tonight115263045\n",
      "http://dbpedia.org/class/yago/Go115292069\n",
      "http://dbpedia.org/class/yago/Iodine114641397\n",
      "http://dbpedia.org/class/yago/Somewhere108489765\n",
      "http://dbpedia.org/class/yago/Know105805012\n"
     ]
    },
    {
     "data": {
      "text/plain": [
       "0.4351463296960698"
      ]
     },
     "execution_count": 130,
     "metadata": {},
     "output_type": "execute_result"
    }
   ],
   "source": [
    "m = list()\n",
    "for k,v in results_b_to_a.iteritems():\n",
    "    print(k)\n",
    "    m.append(max(v))\n",
    "np.mean(m)"
   ]
  },
  {
   "cell_type": "code",
   "execution_count": 136,
   "metadata": {},
   "outputs": [
    {
     "data": {
      "text/plain": [
       "0.5059526773615829"
      ]
     },
     "execution_count": 136,
     "metadata": {},
     "output_type": "execute_result"
    }
   ],
   "source": [
    "def yago_sim_score(s1,s2, m='wpath'):\n",
    "    y_l = yagonize(s1)\n",
    "    y_r = yagonize(s2)\n",
    "    \n",
    "    l2r = compare_yagos(y_l, y_r, m)\n",
    "    r2l = compare_yagos(y_r, y_l, m)\n",
    "    \n",
    "    l2r_score = yago_mean(l2r)\n",
    "    r2l_score = yago_mean(r2l)\n",
    "    \n",
    "    return np.mean([l2r_score, r2l_score])\n",
    "    "
   ]
  },
  {
   "cell_type": "code",
   "execution_count": 146,
   "metadata": {},
   "outputs": [],
   "source": [
    "sentences_with_score = list()\n",
    "method = 'wpath'\n",
    "for row in stss131:\n",
    "    s1 = row[1]\n",
    "    s2 = row[2]\n",
    "    try:\n",
    "        sentences_with_score.append(\n",
    "            [s1,s2, yago_sim_score(s1,s2,method)]\n",
    "        )\n",
    "    except:\n",
    "        sentences_with_score.append(\n",
    "            [s1,s2, None]\n",
    "        )"
   ]
  },
  {
   "cell_type": "code",
   "execution_count": 152,
   "metadata": {},
   "outputs": [],
   "source": [
    "yago_s = [s for _,_,s in sentences_with_score]"
   ]
  },
  {
   "cell_type": "code",
   "execution_count": 162,
   "metadata": {},
   "outputs": [],
   "source": [
    "stss_s = [float(r[3]) for r in stss131]"
   ]
  },
  {
   "cell_type": "code",
   "execution_count": 163,
   "metadata": {},
   "outputs": [],
   "source": [
    "cleaned_s = [ t for t in zip(yago_s, stss_s) if t[0] != None]"
   ]
  },
  {
   "cell_type": "code",
   "execution_count": 164,
   "metadata": {},
   "outputs": [],
   "source": [
    "yago_final, stss_final = list(zip(*cleaned_s))"
   ]
  },
  {
   "cell_type": "code",
   "execution_count": 165,
   "metadata": {},
   "outputs": [
    {
     "data": {
      "text/plain": [
       "array([[1.       , 0.6407073],\n",
       "       [0.6407073, 1.       ]])"
      ]
     },
     "execution_count": 165,
     "metadata": {},
     "output_type": "execute_result"
    }
   ],
   "source": [
    "np.corrcoef(yago_final, stss_final)"
   ]
  },
  {
   "cell_type": "code",
   "execution_count": null,
   "metadata": {},
   "outputs": [],
   "source": []
  },
  {
   "cell_type": "code",
   "execution_count": null,
   "metadata": {},
   "outputs": [],
   "source": []
  },
  {
   "cell_type": "code",
   "execution_count": null,
   "metadata": {},
   "outputs": [],
   "source": []
  }
 ],
 "metadata": {
  "kernelspec": {
   "display_name": "Python 2",
   "language": "python",
   "name": "python2"
  },
  "language_info": {
   "codemirror_mode": {
    "name": "ipython",
    "version": 2
   },
   "file_extension": ".py",
   "mimetype": "text/x-python",
   "name": "python",
   "nbconvert_exporter": "python",
   "pygments_lexer": "ipython2",
   "version": "2.7.18"
  }
 },
 "nbformat": 4,
 "nbformat_minor": 4
}
