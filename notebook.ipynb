{
 "cells": [
  {
   "cell_type": "code",
   "execution_count": 157,
   "metadata": {},
   "outputs": [],
   "source": [
    "import requests\n",
    "import json\n",
    "import csv\n",
    "import numpy as np\n",
    "import matplotlib.pyplot as plt\n",
    "from scipy.stats import pearsonr\n",
    "from os import path"
   ]
  },
  {
   "cell_type": "code",
   "execution_count": 188,
   "metadata": {},
   "outputs": [],
   "source": [
    "def datamuse(query):\n",
    "    # http://www.datamuse.com/api/\n",
    "    url = \"https://api.datamuse.com/words?ml=\" + query + \"&max=75\" #max = number of results to return\n",
    "    response = requests.get(url)\n",
    "    similar_words = [x['word'] for x in json.loads(response.content)]\n",
    "    return similar_words"
   ]
  },
  {
   "cell_type": "code",
   "execution_count": 189,
   "metadata": {},
   "outputs": [],
   "source": [
    "def mc28():\n",
    "    with open('datasets/sim-eval-master/datasets/mc.csv', newline='') as csvfile:\n",
    "        reader = csv.reader(csvfile, delimiter=';')\n",
    "        rows = []\n",
    "        for row in reader: rows.append(row)\n",
    "        return rows # [[word1, word2, similarity], ...] \n",
    "    \n",
    "def load_dataset(name):\n",
    "    with open('datasets/sim-eval-master/datasets/{name}.csv'.format(name=name), newline='') as csvfile:\n",
    "        reader = csv.reader(csvfile, delimiter=';')\n",
    "        rows = []\n",
    "        for row in reader: rows.append(row)\n",
    "        return rows # [[word1, word2, similarity], ...] \n",
    "\n",
    "# SN is classification data\n",
    "\n",
    "\n"
   ]
  },
  {
   "cell_type": "code",
   "execution_count": 190,
   "metadata": {},
   "outputs": [],
   "source": [
    "def stss131():\n",
    "    # https://www.researchgate.net/publication/262411640_A_new_benchmark_dataset_with_production_methodology_for_short_text_semantic_similarity_algorithms\n",
    "    with open('datasets/stss-131/stss.csv', newline='') as csvfile:\n",
    "        reader = csv.reader(csvfile, delimiter=';')\n",
    "        rows = []\n",
    "        for row in reader: rows.append(row)\n",
    "        return rows # [[index, sentence1, sentence2, avg similarity, standard deviation], ...]"
   ]
  },
  {
   "cell_type": "code",
   "execution_count": 191,
   "metadata": {},
   "outputs": [],
   "source": [
    "def jaccard(word_list1, word_list2):\n",
    "    intersection = len(set(word_list1).intersection(word_list2))\n",
    "    union = len(set(word_list1).union(word_list2))\n",
    "    jaccard_similarity = intersection / union\n",
    "    return jaccard_similarity"
   ]
  },
  {
   "cell_type": "code",
   "execution_count": 192,
   "metadata": {},
   "outputs": [],
   "source": [
    "from functools import reduce, partial\n",
    "from itertools import starmap\n",
    "\n",
    "def get_ml(w,c):\n",
    "    \"\"\" Get a function for querying the related words \"\"\"\n",
    "    return [lambda: datamuse(\n",
    "       \"{word}&max={count}\"\n",
    "       .format(word=w,count=c)\n",
    "    ), w]\n",
    "\n",
    "def relations_to_file(fn, word):\n",
    "    \"\"\"\n",
    "    fn: query function\n",
    "    word\n",
    "    \"\"\"\n",
    "    filename = \"./related-words/{}.ml\".format(word)\n",
    "        \n",
    "    with open(filename, 'w') as f:\n",
    "        \"\"\" \n",
    "        Query the related words one at a time \n",
    "        when required for writing to file \n",
    "        \"\"\"\n",
    "        for word in fn():\n",
    "            f.write(word)\n",
    "            f.write('\\n')\n",
    "            \n",
    "    return filename\n",
    "\n",
    "def collect_ml_getters(dataset_fn, count=100):\n",
    "    \"\"\" Collect the getters for lazy evaluation \"\"\"\n",
    "    return reduce(lambda acc, fns: acc + fns, [\n",
    "        [get_ml(f,count), get_ml(s,count)]\n",
    "        for f, s, _ \n",
    "        in dataset_fn()\n",
    "    ], [])\n",
    "\n",
    "def get_and_write_dataset_words_to_files(dataset_fn, count=30):\n",
    "    \"\"\"works for files that return tuple with three items per row\"\"\"\n",
    "    return list(starmap(\n",
    "        relations_to_file, \n",
    "        collect_ml_getters(dataset_fn, count)\n",
    "    ))\n",
    "\n",
    "# write the files with\n",
    "# get_and_write_dataset_words_to_files(mc28, count=100)\n",
    "\n",
    "\n"
   ]
  },
  {
   "cell_type": "code",
   "execution_count": 193,
   "metadata": {},
   "outputs": [],
   "source": [
    "wordsim = lambda: load_dataset('wordsim')\n",
    "debug_val = collect_ml_getters(wordsim, count=1)\n"
   ]
  },
  {
   "cell_type": "code",
   "execution_count": null,
   "metadata": {},
   "outputs": [],
   "source": []
  },
  {
   "cell_type": "code",
   "execution_count": 85,
   "metadata": {},
   "outputs": [
    {
     "name": "stdout",
     "output_type": "stream",
     "text": [
      "\n",
      "h\n",
      "h\n",
      "e\n",
      "he\n",
      "i\n"
     ]
    },
    {
     "data": {
      "text/plain": [
       "'hei'"
      ]
     },
     "execution_count": 85,
     "metadata": {},
     "output_type": "execute_result"
    }
   ],
   "source": [
    "def plussaa(accumulator, variable):\n",
    "    print(accumulator)\n",
    "    print(variable)\n",
    "    return accumulator + variable\n",
    "\n",
    "reduce(\n",
    "    # functio (accumulator, iterator)\n",
    "    plussaa, \n",
    "    # iterator take a valua one at a time\n",
    "    [\"h\",\"e\",\"i\"],\n",
    "    # Accumulator for the first round\n",
    "    \"\"\n",
    ")"
   ]
  },
  {
   "cell_type": "code",
   "execution_count": null,
   "metadata": {},
   "outputs": [],
   "source": []
  },
  {
   "cell_type": "code",
   "execution_count": null,
   "metadata": {},
   "outputs": [],
   "source": []
  },
  {
   "cell_type": "code",
   "execution_count": 155,
   "metadata": {},
   "outputs": [],
   "source": []
  },
  {
   "cell_type": "code",
   "execution_count": null,
   "metadata": {},
   "outputs": [],
   "source": []
  },
  {
   "cell_type": "code",
   "execution_count": 194,
   "metadata": {
    "scrolled": true
   },
   "outputs": [
    {
     "data": {
      "text/plain": [
       "Text(0, 0.5, 'Correlation')"
      ]
     },
     "execution_count": 194,
     "metadata": {},
     "output_type": "execute_result"
    },
    {
     "data": {
      "image/png": "[encoded data removed]",
      "text/plain": [
       "<Figure size 432x288 with 1 Axes>"
      ]
     },
     "metadata": {
      "needs_background": "light"
     },
     "output_type": "display_data"
    }
   ],
   "source": [
    "# We would like to test the similarity between the pair (X,Y) by using the output of the Datamuse API \n",
    "# for both X and Y. Set the number of outcome words in the API to be large, e.g., 30. Use Jaccard similarity \n",
    "# to compute the similarity between X and Y (Counting the ratio of common words among the outputs of X and Y \n",
    "# Datamuse API over the total number of distinct words in the two outputs).\n",
    "#\n",
    "# Repeat this process of calculating the similarity between each pair in MC-28 dataset, and then calculate the\n",
    "# correlation coefficient with the human judgment using Pearson coefficient. \n",
    "# Try to optimize the parameters ofd atamuse API call by testing distinct number of outputs and monitor the \n",
    "# value of the correlation until you reach\n",
    "# the highest correlation value. \n",
    "\n",
    "mc = np.array(mc28())\n",
    "\n",
    "\n",
    "def load_from_file(word):\n",
    "    with open('./related-words/'+word+'.ml', 'r') as f:\n",
    "        return np.array([ l.replace(\"\\n\", \"\") for l in f])        \n",
    "\n",
    "def calc_correlation(data):\n",
    "    def f(number_of_outputs):\n",
    "        get_rel_words = lambda word: load_from_file(word)\n",
    "\n",
    "        similarity = lambda row: jaccard(\n",
    "            get_rel_words(row[0])[:number_of_outputs], \n",
    "            get_rel_words(row[1])[:number_of_outputs]\n",
    "        )\n",
    "\n",
    "        datamuse_similarity = np.apply_along_axis(similarity, 1, data)\n",
    "        ground_truth = data.transpose()[2].astype(np.float)\n",
    "        return pearsonr(datamuse_similarity, ground_truth)[0]\n",
    "    \n",
    "    return f\n",
    "\n",
    "\n",
    "n = np.arange(1, 100, 1)\n",
    "\n",
    "corr = np.vectorize(calc_correlation(mc))(n)\n",
    "\n",
    "plt.scatter(n, corr)\n",
    "plt.axvline(x=n[np.argmax(corr)], color=\"red\")\n",
    "plt.xlabel(\"Number of outputs\")\n",
    "plt.ylabel(\"Correlation\")\n",
    "\n",
    "# Use this configuration to calculate the correlation value for other datasets, and \n",
    "# compare the result with other state-of-art results as reported in relevant literature (e.g., previous sim-eval \n",
    "# repository) ."
   ]
  },
  {
   "cell_type": "code",
   "execution_count": null,
   "metadata": {},
   "outputs": [],
   "source": []
  },
  {
   "cell_type": "code",
   "execution_count": null,
   "metadata": {},
   "outputs": [],
   "source": []
  },
  {
   "cell_type": "code",
   "execution_count": 141,
   "metadata": {},
   "outputs": [],
   "source": [
    "wordsim = load_dataset('wordsim')\n",
    "\n",
    "uniq_wordsim = set(reduce(lambda x,y: x + y, [ [a,b] for a,b,x in wordsim ], []))\n",
    "collected_getters = [get_ml(w, 25) for w in list(uniq_wordsim)]"
   ]
  },
  {
   "cell_type": "code",
   "execution_count": null,
   "metadata": {},
   "outputs": [],
   "source": []
  },
  {
   "cell_type": "code",
   "execution_count": null,
   "metadata": {},
   "outputs": [],
   "source": []
  },
  {
   "cell_type": "code",
   "execution_count": 151,
   "metadata": {},
   "outputs": [],
   "source": [
    "def get_ml_to_file(wordlist):\n",
    "    collected_getters = [get_ml(w, 25) for w in list(wordlist)]\n",
    "    list(starmap(relations_to_file, collected_getters))\n",
    "\n",
    "def load_unique_words_to_file(name):\n",
    "    uniq_wordsim = set(reduce(lambda x,y: x + y, [ [a,b] for a,b,x in load_dataset(name) ], []))\n",
    "    get_ml_to_file(uniq_wordsim)\n"
   ]
  },
  {
   "cell_type": "code",
   "execution_count": 145,
   "metadata": {},
   "outputs": [],
   "source": [
    "load_unique_words_to_file('rg')"
   ]
  },
  {
   "cell_type": "code",
   "execution_count": 154,
   "metadata": {},
   "outputs": [
    {
     "data": {
      "text/plain": [
       "Text(0, 0.5, 'Correlation')"
      ]
     },
     "execution_count": 154,
     "metadata": {},
     "output_type": "execute_result"
    },
    {
     "data": {
      "image/png": "[encoded data removed]",
      "text/plain": [
       "<Figure size 432x288 with 1 Axes>"
      ]
     },
     "metadata": {
      "needs_background": "light"
     },
     "output_type": "display_data"
    }
   ],
   "source": [
    "n = np.arange(1, 25, 1)\n",
    "\n",
    "corr = np.vectorize(calc_correlation(np.array(load_dataset('rg'))))(n)\n",
    "\n",
    "plt.scatter(n, corr)\n",
    "plt.axvline(x=n[np.argmax(corr)], color=\"red\")\n",
    "plt.xlabel(\"Number of outputs\")\n",
    "plt.ylabel(\"Correlation\")\n"
   ]
  },
  {
   "cell_type": "markdown",
   "metadata": {},
   "source": [
    "## Load word vectors from Glove dataset"
   ]
  },
  {
   "cell_type": "code",
   "execution_count": 319,
   "metadata": {},
   "outputs": [],
   "source": [
    "import glove"
   ]
  },
  {
   "cell_type": "code",
   "execution_count": 320,
   "metadata": {},
   "outputs": [
    {
     "data": {
      "text/plain": [
       "{'100d': '/home/tvaisanen/CSE/natural-language-processing/nlp-project-13/datasets/glove.6B/glove.6B.100d.txt',\n",
       " '50d': '/home/tvaisanen/CSE/natural-language-processing/nlp-project-13/datasets/glove.6B/glove.6B.50d.txt',\n",
       " '300d': '/home/tvaisanen/CSE/natural-language-processing/nlp-project-13/datasets/glove.6B/glove.6B.300d.txt',\n",
       " '200d': '/home/tvaisanen/CSE/natural-language-processing/nlp-project-13/datasets/glove.6B/glove.6B.200d.txt'}"
      ]
     },
     "execution_count": 320,
     "metadata": {},
     "output_type": "execute_result"
    }
   ],
   "source": [
    "# Available glove datasets\n",
    "glove.GLOVE_DATASETS"
   ]
  },
  {
   "cell_type": "code",
   "execution_count": 321,
   "metadata": {},
   "outputs": [],
   "source": [
    "# Select the dataset\n",
    "ds = glove.GLOVE_DATASETS['50d']"
   ]
  },
  {
   "cell_type": "code",
   "execution_count": 323,
   "metadata": {},
   "outputs": [],
   "source": [
    "# Load the dataset to pandas dataframe\n",
    "words = glove.load_words(ds)"
   ]
  },
  {
   "cell_type": "code",
   "execution_count": 324,
   "metadata": {},
   "outputs": [],
   "source": [
    "# Get one\n",
    "# words.loc['morning']"
   ]
  },
  {
   "cell_type": "code",
   "execution_count": 325,
   "metadata": {},
   "outputs": [
    {
     "data": {
      "text/html": [
       "<div>\n",
       "<style scoped>\n",
       "    .dataframe tbody tr th:only-of-type {\n",
       "        vertical-align: middle;\n",
       "    }\n",
       "\n",
       "    .dataframe tbody tr th {\n",
       "        vertical-align: top;\n",
       "    }\n",
       "\n",
       "    .dataframe thead th {\n",
       "        text-align: right;\n",
       "    }\n",
       "</style>\n",
       "<table border=\"1\" class=\"dataframe\">\n",
       "  <thead>\n",
       "    <tr style=\"text-align: right;\">\n",
       "      <th></th>\n",
       "      <th>1</th>\n",
       "      <th>2</th>\n",
       "      <th>3</th>\n",
       "      <th>4</th>\n",
       "      <th>5</th>\n",
       "      <th>6</th>\n",
       "      <th>7</th>\n",
       "      <th>8</th>\n",
       "      <th>9</th>\n",
       "      <th>10</th>\n",
       "      <th>...</th>\n",
       "      <th>41</th>\n",
       "      <th>42</th>\n",
       "      <th>43</th>\n",
       "      <th>44</th>\n",
       "      <th>45</th>\n",
       "      <th>46</th>\n",
       "      <th>47</th>\n",
       "      <th>48</th>\n",
       "      <th>49</th>\n",
       "      <th>50</th>\n",
       "    </tr>\n",
       "    <tr>\n",
       "      <th>0</th>\n",
       "      <th></th>\n",
       "      <th></th>\n",
       "      <th></th>\n",
       "      <th></th>\n",
       "      <th></th>\n",
       "      <th></th>\n",
       "      <th></th>\n",
       "      <th></th>\n",
       "      <th></th>\n",
       "      <th></th>\n",
       "      <th></th>\n",
       "      <th></th>\n",
       "      <th></th>\n",
       "      <th></th>\n",
       "      <th></th>\n",
       "      <th></th>\n",
       "      <th></th>\n",
       "      <th></th>\n",
       "      <th></th>\n",
       "      <th></th>\n",
       "      <th></th>\n",
       "    </tr>\n",
       "  </thead>\n",
       "  <tbody>\n",
       "    <tr>\n",
       "      <th>morning</th>\n",
       "      <td>0.12099</td>\n",
       "      <td>0.10119</td>\n",
       "      <td>-0.18065</td>\n",
       "      <td>0.20052</td>\n",
       "      <td>0.34682</td>\n",
       "      <td>-1.06040</td>\n",
       "      <td>-1.164700</td>\n",
       "      <td>0.64395</td>\n",
       "      <td>-0.33524</td>\n",
       "      <td>-0.790360</td>\n",
       "      <td>...</td>\n",
       "      <td>-0.44613</td>\n",
       "      <td>0.36396</td>\n",
       "      <td>-0.53107</td>\n",
       "      <td>-0.38338</td>\n",
       "      <td>0.63936</td>\n",
       "      <td>-0.079852</td>\n",
       "      <td>0.04625</td>\n",
       "      <td>-0.20362</td>\n",
       "      <td>0.41999</td>\n",
       "      <td>0.25573</td>\n",
       "    </tr>\n",
       "    <tr>\n",
       "      <th>peth</th>\n",
       "      <td>0.13204</td>\n",
       "      <td>-0.92612</td>\n",
       "      <td>-0.10671</td>\n",
       "      <td>-0.11890</td>\n",
       "      <td>-0.34822</td>\n",
       "      <td>0.60301</td>\n",
       "      <td>-0.082492</td>\n",
       "      <td>-1.33460</td>\n",
       "      <td>0.76390</td>\n",
       "      <td>0.052326</td>\n",
       "      <td>...</td>\n",
       "      <td>0.34490</td>\n",
       "      <td>-0.22698</td>\n",
       "      <td>-0.88790</td>\n",
       "      <td>-0.51040</td>\n",
       "      <td>0.66471</td>\n",
       "      <td>0.508140</td>\n",
       "      <td>0.84586</td>\n",
       "      <td>-0.42389</td>\n",
       "      <td>1.05070</td>\n",
       "      <td>0.18619</td>\n",
       "    </tr>\n",
       "  </tbody>\n",
       "</table>\n",
       "<p>2 rows × 50 columns</p>\n",
       "</div>"
      ],
      "text/plain": [
       "              1        2        3        4        5        6         7   \\\n",
       "0                                                                         \n",
       "morning  0.12099  0.10119 -0.18065  0.20052  0.34682 -1.06040 -1.164700   \n",
       "peth     0.13204 -0.92612 -0.10671 -0.11890 -0.34822  0.60301 -0.082492   \n",
       "\n",
       "              8        9         10  ...       41       42       43       44  \\\n",
       "0                                    ...                                       \n",
       "morning  0.64395 -0.33524 -0.790360  ... -0.44613  0.36396 -0.53107 -0.38338   \n",
       "peth    -1.33460  0.76390  0.052326  ...  0.34490 -0.22698 -0.88790 -0.51040   \n",
       "\n",
       "              45        46       47       48       49       50  \n",
       "0                                                               \n",
       "morning  0.63936 -0.079852  0.04625 -0.20362  0.41999  0.25573  \n",
       "peth     0.66471  0.508140  0.84586 -0.42389  1.05070  0.18619  \n",
       "\n",
       "[2 rows x 50 columns]"
      ]
     },
     "execution_count": 325,
     "metadata": {},
     "output_type": "execute_result"
    }
   ],
   "source": [
    "# Get multiple\n",
    "words.loc[['morning','peth']]"
   ]
  },
  {
   "cell_type": "markdown",
   "metadata": {},
   "source": [
    "## Sentence Level Work"
   ]
  },
  {
   "cell_type": "code",
   "execution_count": 326,
   "metadata": {},
   "outputs": [
    {
     "data": {
      "text/html": [
       "<div>\n",
       "<style scoped>\n",
       "    .dataframe tbody tr th:only-of-type {\n",
       "        vertical-align: middle;\n",
       "    }\n",
       "\n",
       "    .dataframe tbody tr th {\n",
       "        vertical-align: top;\n",
       "    }\n",
       "\n",
       "    .dataframe thead th {\n",
       "        text-align: right;\n",
       "    }\n",
       "</style>\n",
       "<table border=\"1\" class=\"dataframe\">\n",
       "  <thead>\n",
       "    <tr style=\"text-align: right;\">\n",
       "      <th></th>\n",
       "      <th>0</th>\n",
       "      <th>s1</th>\n",
       "      <th>s2</th>\n",
       "      <th>3</th>\n",
       "      <th>4</th>\n",
       "    </tr>\n",
       "  </thead>\n",
       "  <tbody>\n",
       "    <tr>\n",
       "      <th>0</th>\n",
       "      <td>66</td>\n",
       "      <td>Would you like to go out to drink with me toni...</td>\n",
       "      <td>I really don't know what to eat tonight so I m...</td>\n",
       "      <td>1.01</td>\n",
       "      <td>0.77</td>\n",
       "    </tr>\n",
       "    <tr>\n",
       "      <th>1</th>\n",
       "      <td>67</td>\n",
       "      <td>I advise you to treat this matter very serious...</td>\n",
       "      <td>You must take this most seriously, it will aff...</td>\n",
       "      <td>3.38</td>\n",
       "      <td>0.69</td>\n",
       "    </tr>\n",
       "    <tr>\n",
       "      <th>2</th>\n",
       "      <td>68</td>\n",
       "      <td>When I was going out to meet my friends there ...</td>\n",
       "      <td>The train operator announced to the passengers...</td>\n",
       "      <td>3.13</td>\n",
       "      <td>0.68</td>\n",
       "    </tr>\n",
       "    <tr>\n",
       "      <th>3</th>\n",
       "      <td>69</td>\n",
       "      <td>Does music help you to relax, or does it distr...</td>\n",
       "      <td>Does this sponge look wet or dry to you?</td>\n",
       "      <td>0.1</td>\n",
       "      <td>0.29</td>\n",
       "    </tr>\n",
       "    <tr>\n",
       "      <th>4</th>\n",
       "      <td>70</td>\n",
       "      <td>You must realise that you will definitely be p...</td>\n",
       "      <td>He will be harshly punished for setting the fi...</td>\n",
       "      <td>2.84</td>\n",
       "      <td>0.87</td>\n",
       "    </tr>\n",
       "    <tr>\n",
       "      <th>...</th>\n",
       "      <td>...</td>\n",
       "      <td>...</td>\n",
       "      <td>...</td>\n",
       "      <td>...</td>\n",
       "      <td>...</td>\n",
       "    </tr>\n",
       "    <tr>\n",
       "      <th>61</th>\n",
       "      <td>127</td>\n",
       "      <td>We often ran to school because we were always ...</td>\n",
       "      <td>I knew I was late for my class so I ran all th...</td>\n",
       "      <td>3.1</td>\n",
       "      <td>0.85</td>\n",
       "    </tr>\n",
       "    <tr>\n",
       "      <th>62</th>\n",
       "      <td>128</td>\n",
       "      <td>I hope you're taking this seriously, if not yo...</td>\n",
       "      <td>The difficult course meant that only the stron...</td>\n",
       "      <td>0.5</td>\n",
       "      <td>0.87</td>\n",
       "    </tr>\n",
       "    <tr>\n",
       "      <th>63</th>\n",
       "      <td>129</td>\n",
       "      <td>The shores or shore of a sea, lake or wide riv...</td>\n",
       "      <td>An autograph is the signature of someone famou...</td>\n",
       "      <td>0.11</td>\n",
       "      <td>0.43</td>\n",
       "    </tr>\n",
       "    <tr>\n",
       "      <th>64</th>\n",
       "      <td>130</td>\n",
       "      <td>I bought a new guitar today, do you like it?</td>\n",
       "      <td>The weapon choice reflects the personality of ...</td>\n",
       "      <td>0.16</td>\n",
       "      <td>0.34</td>\n",
       "    </tr>\n",
       "    <tr>\n",
       "      <th>65</th>\n",
       "      <td>131</td>\n",
       "      <td>Iam so hungry I could eat a whole horse plus d...</td>\n",
       "      <td>I could have eaten another meal, I'm still sta...</td>\n",
       "      <td>3.06</td>\n",
       "      <td>0.85</td>\n",
       "    </tr>\n",
       "  </tbody>\n",
       "</table>\n",
       "<p>66 rows × 5 columns</p>\n",
       "</div>"
      ],
      "text/plain": [
       "      0                                                 s1  \\\n",
       "0    66  Would you like to go out to drink with me toni...   \n",
       "1    67  I advise you to treat this matter very serious...   \n",
       "2    68  When I was going out to meet my friends there ...   \n",
       "3    69  Does music help you to relax, or does it distr...   \n",
       "4    70  You must realise that you will definitely be p...   \n",
       "..  ...                                                ...   \n",
       "61  127  We often ran to school because we were always ...   \n",
       "62  128  I hope you're taking this seriously, if not yo...   \n",
       "63  129  The shores or shore of a sea, lake or wide riv...   \n",
       "64  130       I bought a new guitar today, do you like it?   \n",
       "65  131  Iam so hungry I could eat a whole horse plus d...   \n",
       "\n",
       "                                                   s2     3     4  \n",
       "0   I really don't know what to eat tonight so I m...  1.01  0.77  \n",
       "1   You must take this most seriously, it will aff...  3.38  0.69  \n",
       "2   The train operator announced to the passengers...  3.13  0.68  \n",
       "3            Does this sponge look wet or dry to you?   0.1  0.29  \n",
       "4   He will be harshly punished for setting the fi...  2.84  0.87  \n",
       "..                                                ...   ...   ...  \n",
       "61  I knew I was late for my class so I ran all th...   3.1  0.85  \n",
       "62  The difficult course meant that only the stron...   0.5  0.87  \n",
       "63  An autograph is the signature of someone famou...  0.11  0.43  \n",
       "64  The weapon choice reflects the personality of ...  0.16  0.34  \n",
       "65  I could have eaten another meal, I'm still sta...  3.06  0.85  \n",
       "\n",
       "[66 rows x 5 columns]"
      ]
     },
     "execution_count": 326,
     "metadata": {},
     "output_type": "execute_result"
    }
   ],
   "source": [
    "import pandas as pd\n",
    "import nltk\n",
    "from nltk.tokenize import word_tokenize\n",
    "\n",
    "\n",
    "data = pd.DataFrame(stss131(), columns=['0', 's1','s2','3','4'])\n",
    "data"
   ]
  },
  {
   "cell_type": "code",
   "execution_count": 327,
   "metadata": {},
   "outputs": [],
   "source": [
    "stss131_all_sentences = data[:]['s1'] + data[:]['s2']\n"
   ]
  },
  {
   "cell_type": "code",
   "execution_count": 328,
   "metadata": {},
   "outputs": [],
   "source": [
    "def get_all_tokens(list_of_sentences):\n",
    "    return reduce(\n",
    "            lambda a,t: a +t, \n",
    "            [word_tokenize(s) \n",
    "             for s \n",
    "             in all_sentences],\n",
    "            []\n",
    "        )"
   ]
  },
  {
   "cell_type": "code",
   "execution_count": 329,
   "metadata": {},
   "outputs": [],
   "source": [
    "stss131_uniq_tokens = list(\n",
    "    set(reduce(\n",
    "        lambda a,w: a+w,\n",
    "        [\n",
    "            w.split('.') \n",
    "            for w \n",
    "            in get_all_tokens(stss131_all_sentences)], \n",
    "        []\n",
    "    )\n",
    "))\n"
   ]
  },
  {
   "cell_type": "code",
   "execution_count": 330,
   "metadata": {},
   "outputs": [],
   "source": [
    "stopwords = nltk.corpus.stopwords.words('english')\n",
    "stemmer = nltk.stem.snowball.SnowballStemmer('english')"
   ]
  },
  {
   "cell_type": "code",
   "execution_count": 331,
   "metadata": {},
   "outputs": [],
   "source": [
    "a = set(stss131_uniq_tokens)\n",
    "b = set(stopwords)\n",
    "stss131_without_stopwords = list(a.difference(b))"
   ]
  },
  {
   "cell_type": "code",
   "execution_count": null,
   "metadata": {},
   "outputs": [],
   "source": []
  },
  {
   "cell_type": "code",
   "execution_count": 332,
   "metadata": {},
   "outputs": [],
   "source": [
    "import re \n",
    "def clean_token(word):\n",
    "    clean1 = re.sub('^[^a-zA-Z]*', \"\", word)\n",
    "    return re.sub('[^a-zA-Z]*$', \"\", clean1).lower()"
   ]
  },
  {
   "cell_type": "code",
   "execution_count": 333,
   "metadata": {},
   "outputs": [
    {
     "data": {
      "text/plain": [
       "'heello'"
      ]
     },
     "execution_count": 333,
     "metadata": {},
     "output_type": "execute_result"
    }
   ],
   "source": [
    "clean_token(\"+hEEllo\")\n"
   ]
  },
  {
   "cell_type": "code",
   "execution_count": 334,
   "metadata": {},
   "outputs": [
    {
     "data": {
      "text/plain": [
       "['',\n",
       " 'In',\n",
       " 'A',\n",
       " \"'m\",\n",
       " 'My',\n",
       " \"'s\",\n",
       " '–I',\n",
       " 'ca',\n",
       " 'Is',\n",
       " '0',\n",
       " '12',\n",
       " 'us',\n",
       " 'We',\n",
       " \"'d\",\n",
       " 'C',\n",
       " 'Do',\n",
       " '?',\n",
       " ',',\n",
       " '’',\n",
       " 'If',\n",
       " 'It',\n",
       " 'He',\n",
       " 'An',\n",
       " 'go']"
      ]
     },
     "execution_count": 334,
     "metadata": {},
     "output_type": "execute_result"
    }
   ],
   "source": [
    "[w for w in stss131_without_stopwords if len(w) < 3 and w != 'I']"
   ]
  },
  {
   "cell_type": "code",
   "execution_count": 335,
   "metadata": {},
   "outputs": [],
   "source": [
    "cleaned_tokens = [clean_token(w) for w in stss131_without_stopwords]\n",
    "cleaned_without_empty = [w for w in cleaned_tokens if len(w) > 0]\n",
    "duplicates_removed = list(set(cleaned_without_empty))"
   ]
  },
  {
   "cell_type": "code",
   "execution_count": 396,
   "metadata": {},
   "outputs": [],
   "source": [
    "import os\n",
    "downloaded = set([w.replace('.ml', '').lower() for w in os.listdir('./related-words')])\n",
    "stss131_unique_cleaned_tokens = list(\n",
    "    set(duplicates_removed).difference(set(downloaded)).difference(set(stopwords)))"
   ]
  },
  {
   "cell_type": "code",
   "execution_count": 397,
   "metadata": {},
   "outputs": [],
   "source": [
    "get_ml_to_file(stss131_unique_cleaned_tokens)"
   ]
  },
  {
   "cell_type": "code",
   "execution_count": null,
   "metadata": {},
   "outputs": [],
   "source": []
  },
  {
   "cell_type": "code",
   "execution_count": 404,
   "metadata": {},
   "outputs": [],
   "source": [
    "def tokenize_sentence(sentence, stopwords):\n",
    "    tokens = [w for w in [clean_token(t) for t in word_tokenize(sentence)] if len(w) > 0]\n",
    "    #return tokens\n",
    "    return list(set(tokens).difference(stopwords))"
   ]
  },
  {
   "cell_type": "code",
   "execution_count": 405,
   "metadata": {},
   "outputs": [
    {
     "data": {
      "text/plain": [
       "['would', 'drink', 'tonight', 'like', 'go']"
      ]
     },
     "execution_count": 405,
     "metadata": {},
     "output_type": "execute_result"
    }
   ],
   "source": [
    "s1 = tokenize_sentence(data.iloc[0]['s1'], stopwords)\n",
    "s2 = tokenize_sentence(data.iloc[0]['s2'], stopwords)\n",
    "s1"
   ]
  },
  {
   "cell_type": "code",
   "execution_count": 416,
   "metadata": {},
   "outputs": [
    {
     "data": {
      "text/html": [
       "<div>\n",
       "<style scoped>\n",
       "    .dataframe tbody tr th:only-of-type {\n",
       "        vertical-align: middle;\n",
       "    }\n",
       "\n",
       "    .dataframe tbody tr th {\n",
       "        vertical-align: top;\n",
       "    }\n",
       "\n",
       "    .dataframe thead th {\n",
       "        text-align: right;\n",
       "    }\n",
       "</style>\n",
       "<table border=\"1\" class=\"dataframe\">\n",
       "  <thead>\n",
       "    <tr style=\"text-align: right;\">\n",
       "      <th></th>\n",
       "      <th>would</th>\n",
       "      <th>drink</th>\n",
       "      <th>tonight</th>\n",
       "      <th>like</th>\n",
       "      <th>go</th>\n",
       "      <th>know</th>\n",
       "      <th>eat</th>\n",
       "      <th>somewhere</th>\n",
       "      <th>really</th>\n",
       "      <th>might</th>\n",
       "    </tr>\n",
       "  </thead>\n",
       "  <tbody>\n",
       "    <tr>\n",
       "      <th>0</th>\n",
       "      <td>ought</td>\n",
       "      <td>alcohol</td>\n",
       "      <td>this evening</td>\n",
       "      <td>ish</td>\n",
       "      <td>get</td>\n",
       "      <td>recognize</td>\n",
       "      <td>consume</td>\n",
       "      <td>someplace</td>\n",
       "      <td>very</td>\n",
       "      <td>could</td>\n",
       "    </tr>\n",
       "    <tr>\n",
       "      <th>1</th>\n",
       "      <td>dare</td>\n",
       "      <td>booze</td>\n",
       "      <td>this night</td>\n",
       "      <td>similar</td>\n",
       "      <td>move</td>\n",
       "      <td>acknowledge</td>\n",
       "      <td>feed</td>\n",
       "      <td>anywhere</td>\n",
       "      <td>actually</td>\n",
       "      <td>can</td>\n",
       "    </tr>\n",
       "    <tr>\n",
       "      <th>2</th>\n",
       "      <td>expected</td>\n",
       "      <td>beverage</td>\n",
       "      <td>night</td>\n",
       "      <td>wish</td>\n",
       "      <td>proceed</td>\n",
       "      <td>love</td>\n",
       "      <td>deplete</td>\n",
       "      <td>nowhere</td>\n",
       "      <td>truly</td>\n",
       "      <td>mightiness</td>\n",
       "    </tr>\n",
       "    <tr>\n",
       "      <th>3</th>\n",
       "      <td>wish</td>\n",
       "      <td>alcoholic beverage</td>\n",
       "      <td>evening</td>\n",
       "      <td>same</td>\n",
       "      <td>run</td>\n",
       "      <td>cognize</td>\n",
       "      <td>corrode</td>\n",
       "      <td>where</td>\n",
       "      <td>genuinely</td>\n",
       "      <td>power</td>\n",
       "    </tr>\n",
       "    <tr>\n",
       "      <th>4</th>\n",
       "      <td>gonna</td>\n",
       "      <td>imbibe</td>\n",
       "      <td>today</td>\n",
       "      <td>alike</td>\n",
       "      <td>turn</td>\n",
       "      <td>screw</td>\n",
       "      <td>wipe out</td>\n",
       "      <td>sometime</td>\n",
       "      <td>real</td>\n",
       "      <td>possibly</td>\n",
       "    </tr>\n",
       "    <tr>\n",
       "      <th>5</th>\n",
       "      <td>never</td>\n",
       "      <td>boozing</td>\n",
       "      <td>afternoon</td>\n",
       "      <td>comparable</td>\n",
       "      <td>start</td>\n",
       "      <td>live</td>\n",
       "      <td>run through</td>\n",
       "      <td>something</td>\n",
       "      <td>rattling</td>\n",
       "      <td>perhaps</td>\n",
       "    </tr>\n",
       "    <tr>\n",
       "      <th>6</th>\n",
       "      <td>oughta</td>\n",
       "      <td>drunkenness</td>\n",
       "      <td>wednesdays</td>\n",
       "      <td>suchlike</td>\n",
       "      <td>live</td>\n",
       "      <td>eff</td>\n",
       "      <td>exhaust</td>\n",
       "      <td>somehow</td>\n",
       "      <td>forsooth</td>\n",
       "      <td>probably</td>\n",
       "    </tr>\n",
       "    <tr>\n",
       "      <th>7</th>\n",
       "      <td>only</td>\n",
       "      <td>drinkable</td>\n",
       "      <td>dinner</td>\n",
       "      <td>care</td>\n",
       "      <td>work</td>\n",
       "      <td>hump</td>\n",
       "      <td>rust</td>\n",
       "      <td>there</td>\n",
       "      <td>in truth</td>\n",
       "      <td>ought</td>\n",
       "    </tr>\n",
       "    <tr>\n",
       "      <th>8</th>\n",
       "      <td>wanna</td>\n",
       "      <td>intoxicant</td>\n",
       "      <td>sundown</td>\n",
       "      <td>equivalent</td>\n",
       "      <td>pass</td>\n",
       "      <td>experience</td>\n",
       "      <td>eat on</td>\n",
       "      <td>here</td>\n",
       "      <td>obviously</td>\n",
       "      <td>maybe</td>\n",
       "    </tr>\n",
       "    <tr>\n",
       "      <th>9</th>\n",
       "      <td>council</td>\n",
       "      <td>potable</td>\n",
       "      <td>nightfall</td>\n",
       "      <td>equal</td>\n",
       "      <td>travel</td>\n",
       "      <td>bang</td>\n",
       "      <td>eat up</td>\n",
       "      <td>elsewhere</td>\n",
       "      <td>definitely</td>\n",
       "      <td>likely</td>\n",
       "    </tr>\n",
       "    <tr>\n",
       "      <th>10</th>\n",
       "      <td>club</td>\n",
       "      <td>toast</td>\n",
       "      <td>now</td>\n",
       "      <td>corresponding</td>\n",
       "      <td>operate</td>\n",
       "      <td>bonk</td>\n",
       "      <td>use up</td>\n",
       "      <td>halfway</td>\n",
       "      <td>pretty</td>\n",
       "      <td>potentially</td>\n",
       "    </tr>\n",
       "    <tr>\n",
       "      <th>11</th>\n",
       "      <td>association</td>\n",
       "      <td>swallow</td>\n",
       "      <td>parade</td>\n",
       "      <td>ly</td>\n",
       "      <td>die</td>\n",
       "      <td>sleep with</td>\n",
       "      <td>devour</td>\n",
       "      <td>anything</td>\n",
       "      <td>just</td>\n",
       "      <td>possible</td>\n",
       "    </tr>\n",
       "    <tr>\n",
       "      <th>12</th>\n",
       "      <td>woulding</td>\n",
       "      <td>fuddle</td>\n",
       "      <td>overnight</td>\n",
       "      <td>like-minded</td>\n",
       "      <td>extend</td>\n",
       "      <td>jazz</td>\n",
       "      <td>dine</td>\n",
       "      <td>location</td>\n",
       "      <td>certainly</td>\n",
       "      <td>possibility</td>\n",
       "    </tr>\n",
       "    <tr>\n",
       "      <th>13</th>\n",
       "      <td>able</td>\n",
       "      <td>pledge</td>\n",
       "      <td>late</td>\n",
       "      <td>y</td>\n",
       "      <td>depart</td>\n",
       "      <td>have sex</td>\n",
       "      <td>cook</td>\n",
       "      <td>maybe</td>\n",
       "      <td>yeah</td>\n",
       "      <td>gonna</td>\n",
       "    </tr>\n",
       "    <tr>\n",
       "      <th>14</th>\n",
       "      <td>bes</td>\n",
       "      <td>salute</td>\n",
       "      <td>dark</td>\n",
       "      <td>really</td>\n",
       "      <td>survive</td>\n",
       "      <td>bed</td>\n",
       "      <td>meal</td>\n",
       "      <td>probably</td>\n",
       "      <td>frankly</td>\n",
       "      <td>potential</td>\n",
       "    </tr>\n",
       "    <tr>\n",
       "      <th>15</th>\n",
       "      <td>likely</td>\n",
       "      <td>tope</td>\n",
       "      <td>later</td>\n",
       "      <td>kind</td>\n",
       "      <td>belong</td>\n",
       "      <td>make love</td>\n",
       "      <td>chew</td>\n",
       "      <td>just</td>\n",
       "      <td>honestly</td>\n",
       "      <td>likelihood</td>\n",
       "    </tr>\n",
       "    <tr>\n",
       "      <th>16</th>\n",
       "      <td>unlikely</td>\n",
       "      <td>crapulence</td>\n",
       "      <td>nuit</td>\n",
       "      <td>think</td>\n",
       "      <td>break</td>\n",
       "      <td>make out</td>\n",
       "      <td>chow</td>\n",
       "      <td>anyway</td>\n",
       "      <td>quite</td>\n",
       "      <td>been</td>\n",
       "    </tr>\n",
       "    <tr>\n",
       "      <th>17</th>\n",
       "      <td>but</td>\n",
       "      <td>deglutition</td>\n",
       "      <td>soir</td>\n",
       "      <td>sort</td>\n",
       "      <td>fit</td>\n",
       "      <td>be intimate</td>\n",
       "      <td>snack</td>\n",
       "      <td>someday</td>\n",
       "      <td>awfully</td>\n",
       "      <td>probable</td>\n",
       "    </tr>\n",
       "    <tr>\n",
       "      <th>18</th>\n",
       "      <td>inclined</td>\n",
       "      <td>drink in</td>\n",
       "      <td>nowadays</td>\n",
       "      <td>kinda</td>\n",
       "      <td>endure</td>\n",
       "      <td>do it</td>\n",
       "      <td>drink</td>\n",
       "      <td>anyhow</td>\n",
       "      <td>terribly</td>\n",
       "      <td>probability</td>\n",
       "    </tr>\n",
       "    <tr>\n",
       "      <th>19</th>\n",
       "      <td>nould</td>\n",
       "      <td>inebriant</td>\n",
       "      <td>pill</td>\n",
       "      <td>just</td>\n",
       "      <td>fail</td>\n",
       "      <td>get it on</td>\n",
       "      <td>gobble</td>\n",
       "      <td>around</td>\n",
       "      <td>what</td>\n",
       "      <td>risk</td>\n",
       "    </tr>\n",
       "    <tr>\n",
       "      <th>20</th>\n",
       "      <td>this</td>\n",
       "      <td>beer</td>\n",
       "      <td>tomorrow</td>\n",
       "      <td>know</td>\n",
       "      <td>fling</td>\n",
       "      <td>get laid</td>\n",
       "      <td>meals</td>\n",
       "      <td>else</td>\n",
       "      <td>incredibly</td>\n",
       "      <td>potency</td>\n",
       "    </tr>\n",
       "    <tr>\n",
       "      <th>21</th>\n",
       "      <td>in all likelihood</td>\n",
       "      <td>beverages</td>\n",
       "      <td>tonite</td>\n",
       "      <td>unlike</td>\n",
       "      <td>crack</td>\n",
       "      <td>have a go at it</td>\n",
       "      <td>food</td>\n",
       "      <td>possibly</td>\n",
       "      <td>basically</td>\n",
       "      <td>wattage</td>\n",
       "    </tr>\n",
       "    <tr>\n",
       "      <th>22</th>\n",
       "      <td>have in mind</td>\n",
       "      <td>sip</td>\n",
       "      <td>weekend</td>\n",
       "      <td>resemble</td>\n",
       "      <td>perish</td>\n",
       "      <td>have intercourse</td>\n",
       "      <td>diet</td>\n",
       "      <td>whatever</td>\n",
       "      <td>great</td>\n",
       "      <td>danger</td>\n",
       "    </tr>\n",
       "    <tr>\n",
       "      <th>23</th>\n",
       "      <td>somewise</td>\n",
       "      <td>soda</td>\n",
       "      <td>morning</td>\n",
       "      <td>even</td>\n",
       "      <td>become</td>\n",
       "      <td>have it away</td>\n",
       "      <td>hungry</td>\n",
       "      <td>someway</td>\n",
       "      <td>like</td>\n",
       "      <td>force</td>\n",
       "    </tr>\n",
       "    <tr>\n",
       "      <th>24</th>\n",
       "      <td>and then</td>\n",
       "      <td>vodka</td>\n",
       "      <td>finale</td>\n",
       "      <td>such</td>\n",
       "      <td>offer</td>\n",
       "      <td>have it off</td>\n",
       "      <td>ingest</td>\n",
       "      <td>perhaps</td>\n",
       "      <td>not</td>\n",
       "      <td>hazard</td>\n",
       "    </tr>\n",
       "  </tbody>\n",
       "</table>\n",
       "</div>"
      ],
      "text/plain": [
       "                would               drink       tonight           like  \\\n",
       "0               ought             alcohol  this evening            ish   \n",
       "1                dare               booze    this night        similar   \n",
       "2            expected            beverage         night           wish   \n",
       "3                wish  alcoholic beverage       evening           same   \n",
       "4               gonna              imbibe         today          alike   \n",
       "5               never             boozing     afternoon     comparable   \n",
       "6              oughta         drunkenness    wednesdays       suchlike   \n",
       "7                only           drinkable        dinner           care   \n",
       "8               wanna          intoxicant       sundown     equivalent   \n",
       "9             council             potable     nightfall          equal   \n",
       "10               club               toast           now  corresponding   \n",
       "11        association             swallow        parade             ly   \n",
       "12           woulding              fuddle     overnight    like-minded   \n",
       "13               able              pledge          late              y   \n",
       "14                bes              salute          dark         really   \n",
       "15             likely                tope         later           kind   \n",
       "16           unlikely          crapulence          nuit          think   \n",
       "17                but         deglutition          soir           sort   \n",
       "18           inclined            drink in      nowadays          kinda   \n",
       "19              nould           inebriant          pill           just   \n",
       "20               this                beer      tomorrow           know   \n",
       "21  in all likelihood           beverages        tonite         unlike   \n",
       "22       have in mind                 sip       weekend       resemble   \n",
       "23           somewise                soda       morning           even   \n",
       "24           and then               vodka        finale           such   \n",
       "\n",
       "         go              know          eat  somewhere      really        might  \n",
       "0       get         recognize      consume  someplace        very        could  \n",
       "1      move       acknowledge         feed   anywhere    actually          can  \n",
       "2   proceed              love      deplete    nowhere       truly   mightiness  \n",
       "3       run           cognize      corrode      where   genuinely        power  \n",
       "4      turn             screw     wipe out   sometime        real     possibly  \n",
       "5     start              live  run through  something    rattling      perhaps  \n",
       "6      live               eff      exhaust    somehow    forsooth     probably  \n",
       "7      work              hump         rust      there    in truth        ought  \n",
       "8      pass        experience       eat on       here   obviously        maybe  \n",
       "9    travel              bang       eat up  elsewhere  definitely       likely  \n",
       "10  operate              bonk       use up    halfway      pretty  potentially  \n",
       "11      die        sleep with       devour   anything        just     possible  \n",
       "12   extend              jazz         dine   location   certainly  possibility  \n",
       "13   depart          have sex         cook      maybe        yeah        gonna  \n",
       "14  survive               bed         meal   probably     frankly    potential  \n",
       "15   belong         make love         chew       just    honestly   likelihood  \n",
       "16    break          make out         chow     anyway       quite         been  \n",
       "17      fit       be intimate        snack    someday     awfully     probable  \n",
       "18   endure             do it        drink     anyhow    terribly  probability  \n",
       "19     fail         get it on       gobble     around        what         risk  \n",
       "20    fling          get laid        meals       else  incredibly      potency  \n",
       "21    crack   have a go at it         food   possibly   basically      wattage  \n",
       "22   perish  have intercourse         diet   whatever       great       danger  \n",
       "23   become      have it away       hungry    someway        like        force  \n",
       "24    offer       have it off       ingest    perhaps         not       hazard  "
      ]
     },
     "execution_count": 416,
     "metadata": {},
     "output_type": "execute_result"
    }
   ],
   "source": [
    "\n",
    "def pad_a(arr, c=25, padwith=None):\n",
    "    if (len(arr) == 25):\n",
    "        return arr\n",
    "    else:\n",
    "        return np.array(arr) + np.array([padwith]) * (c-len(arr))\n",
    "\n",
    "\n",
    "d = [(w,related) for w, related in [(w,load_from_file(w)) for w in s1+s2]]\n",
    "\n",
    "df = pd.DataFrame(dict(list(filter(lambda v: len(v[1]) != 0, d))))\n",
    "\n",
    "df"
   ]
  },
  {
   "cell_type": "code",
   "execution_count": 409,
   "metadata": {},
   "outputs": [],
   "source": [
    "def sentence_dm_repr(s, df):\n",
    "    # sentence as datamuse representation\n",
    "    return list(reduce(lambda a,v: a+v, df[s].values.tolist(), []))\n",
    "\n",
    "def compare_sentence_dm_repr(s1,s2,df):\n",
    "    return jaccard(sentence_dm_repr(s1,df),sentence_dm_repr(s2,df))\n",
    "    "
   ]
  },
  {
   "cell_type": "code",
   "execution_count": 392,
   "metadata": {},
   "outputs": [
    {
     "ename": "ZeroDivisionError",
     "evalue": "division by zero",
     "output_type": "error",
     "traceback": [
      "\u001b[0;31m---------------------------------------------------------------------------\u001b[0m",
      "\u001b[0;31mZeroDivisionError\u001b[0m                         Traceback (most recent call last)",
      "\u001b[0;32m<ipython-input-392-cde91983deae>\u001b[0m in \u001b[0;36m<module>\u001b[0;34m\u001b[0m\n\u001b[0;32m----> 1\u001b[0;31m \u001b[0mcompare_sentence_dm_repr\u001b[0m\u001b[0;34m(\u001b[0m\u001b[0ms1\u001b[0m\u001b[0;34m,\u001b[0m\u001b[0ms2\u001b[0m\u001b[0;34m,\u001b[0m\u001b[0mdf\u001b[0m\u001b[0;34m)\u001b[0m\u001b[0;34m\u001b[0m\u001b[0;34m\u001b[0m\u001b[0m\n\u001b[0m",
      "\u001b[0;32m<ipython-input-391-a31c5ba760d1>\u001b[0m in \u001b[0;36mcompare_sentence_dm_repr\u001b[0;34m(s1, s2, df)\u001b[0m\n\u001b[1;32m      4\u001b[0m \u001b[0;34m\u001b[0m\u001b[0m\n\u001b[1;32m      5\u001b[0m \u001b[0;32mdef\u001b[0m \u001b[0mcompare_sentence_dm_repr\u001b[0m\u001b[0;34m(\u001b[0m\u001b[0ms1\u001b[0m\u001b[0;34m,\u001b[0m\u001b[0ms2\u001b[0m\u001b[0;34m,\u001b[0m\u001b[0mdf\u001b[0m\u001b[0;34m)\u001b[0m\u001b[0;34m:\u001b[0m\u001b[0;34m\u001b[0m\u001b[0;34m\u001b[0m\u001b[0m\n\u001b[0;32m----> 6\u001b[0;31m     \u001b[0;32mreturn\u001b[0m \u001b[0mjaccard\u001b[0m\u001b[0;34m(\u001b[0m\u001b[0msentence_dm_repr\u001b[0m\u001b[0;34m(\u001b[0m\u001b[0ms1\u001b[0m\u001b[0;34m,\u001b[0m\u001b[0mdf\u001b[0m\u001b[0;34m)\u001b[0m\u001b[0;34m,\u001b[0m\u001b[0msentence_dm_repr\u001b[0m\u001b[0;34m(\u001b[0m\u001b[0ms2\u001b[0m\u001b[0;34m,\u001b[0m\u001b[0mdf\u001b[0m\u001b[0;34m)\u001b[0m\u001b[0;34m)\u001b[0m\u001b[0;34m\u001b[0m\u001b[0;34m\u001b[0m\u001b[0m\n\u001b[0m\u001b[1;32m      7\u001b[0m \u001b[0;34m\u001b[0m\u001b[0m\n",
      "\u001b[0;32m<ipython-input-191-b62ad861c8b4>\u001b[0m in \u001b[0;36mjaccard\u001b[0;34m(word_list1, word_list2)\u001b[0m\n\u001b[1;32m      2\u001b[0m     \u001b[0mintersection\u001b[0m \u001b[0;34m=\u001b[0m \u001b[0mlen\u001b[0m\u001b[0;34m(\u001b[0m\u001b[0mset\u001b[0m\u001b[0;34m(\u001b[0m\u001b[0mword_list1\u001b[0m\u001b[0;34m)\u001b[0m\u001b[0;34m.\u001b[0m\u001b[0mintersection\u001b[0m\u001b[0;34m(\u001b[0m\u001b[0mword_list2\u001b[0m\u001b[0;34m)\u001b[0m\u001b[0;34m)\u001b[0m\u001b[0;34m\u001b[0m\u001b[0;34m\u001b[0m\u001b[0m\n\u001b[1;32m      3\u001b[0m     \u001b[0munion\u001b[0m \u001b[0;34m=\u001b[0m \u001b[0mlen\u001b[0m\u001b[0;34m(\u001b[0m\u001b[0mset\u001b[0m\u001b[0;34m(\u001b[0m\u001b[0mword_list1\u001b[0m\u001b[0;34m)\u001b[0m\u001b[0;34m.\u001b[0m\u001b[0munion\u001b[0m\u001b[0;34m(\u001b[0m\u001b[0mword_list2\u001b[0m\u001b[0;34m)\u001b[0m\u001b[0;34m)\u001b[0m\u001b[0;34m\u001b[0m\u001b[0;34m\u001b[0m\u001b[0m\n\u001b[0;32m----> 4\u001b[0;31m     \u001b[0mjaccard_similarity\u001b[0m \u001b[0;34m=\u001b[0m \u001b[0mintersection\u001b[0m \u001b[0;34m/\u001b[0m \u001b[0munion\u001b[0m\u001b[0;34m\u001b[0m\u001b[0;34m\u001b[0m\u001b[0m\n\u001b[0m\u001b[1;32m      5\u001b[0m     \u001b[0;32mreturn\u001b[0m \u001b[0mjaccard_similarity\u001b[0m\u001b[0;34m\u001b[0m\u001b[0;34m\u001b[0m\u001b[0m\n",
      "\u001b[0;31mZeroDivisionError\u001b[0m: division by zero"
     ]
    }
   ],
   "source": [
    "compare_sentence_dm_repr(s1,s2,df)"
   ]
  },
  {
   "cell_type": "code",
   "execution_count": 361,
   "metadata": {},
   "outputs": [],
   "source": [
    "\n",
    "\n",
    "def pad_a(arr, c=25, padwith=None):\n",
    "    return np.array(arr) + np.array([padwith]) * (c-len(arr))\n",
    "\n",
    "\n"
   ]
  },
  {
   "cell_type": "code",
   "execution_count": 362,
   "metadata": {},
   "outputs": [],
   "source": [
    "ex = [1,2,3,4,5,6,7,8,9,3,4,6,6,3]\n",
    "c = 25\n",
    "\n",
    "result = pad_array(ex)"
   ]
  },
  {
   "cell_type": "code",
   "execution_count": 363,
   "metadata": {},
   "outputs": [
    {
     "data": {
      "text/plain": [
       "[1,\n",
       " 2,\n",
       " 3,\n",
       " 4,\n",
       " 5,\n",
       " 6,\n",
       " 7,\n",
       " 8,\n",
       " 9,\n",
       " 3,\n",
       " 4,\n",
       " 6,\n",
       " 6,\n",
       " 3,\n",
       " None,\n",
       " None,\n",
       " None,\n",
       " None,\n",
       " None,\n",
       " None,\n",
       " None,\n",
       " None,\n",
       " None,\n",
       " None,\n",
       " None]"
      ]
     },
     "execution_count": 363,
     "metadata": {},
     "output_type": "execute_result"
    }
   ],
   "source": [
    "result"
   ]
  },
  {
   "cell_type": "code",
   "execution_count": 346,
   "metadata": {},
   "outputs": [],
   "source": [
    "\n",
    "def pad_a(arr, c=25, padwith=None):\n",
    "    return arr + [padwith] * (c-len(arr))\n"
   ]
  },
  {
   "cell_type": "code",
   "execution_count": 347,
   "metadata": {},
   "outputs": [
    {
     "data": {
      "text/plain": [
       "[1,\n",
       " 2,\n",
       " None,\n",
       " None,\n",
       " None,\n",
       " None,\n",
       " None,\n",
       " None,\n",
       " None,\n",
       " None,\n",
       " None,\n",
       " None,\n",
       " None,\n",
       " None,\n",
       " None,\n",
       " None,\n",
       " None,\n",
       " None,\n",
       " None,\n",
       " None,\n",
       " None,\n",
       " None,\n",
       " None,\n",
       " None,\n",
       " None]"
      ]
     },
     "execution_count": 347,
     "metadata": {},
     "output_type": "execute_result"
    }
   ],
   "source": [
    "pad_a([1,2])"
   ]
  },
  {
   "cell_type": "code",
   "execution_count": null,
   "metadata": {},
   "outputs": [],
   "source": []
  }
 ],
 "metadata": {
  "kernelspec": {
   "display_name": "Python 3",
   "language": "python",
   "name": "python3"
  },
  "language_info": {
   "codemirror_mode": {
    "name": "ipython",
    "version": 3
   },
   "file_extension": ".py",
   "mimetype": "text/x-python",
   "name": "python",
   "nbconvert_exporter": "python",
   "pygments_lexer": "ipython3",
   "version": "3.8.5"
  }
 },
 "nbformat": 4,
 "nbformat_minor": 4
}
