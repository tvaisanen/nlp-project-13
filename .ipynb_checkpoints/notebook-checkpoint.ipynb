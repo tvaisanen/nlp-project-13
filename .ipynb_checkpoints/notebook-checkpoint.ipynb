{
 "cells": [
  {
   "cell_type": "code",
   "execution_count": 211,
   "metadata": {},
   "outputs": [],
   "source": [
    "import requests\n",
    "import json\n",
    "import re \n",
    "import csv\n",
    "import os\n",
    "import gensim\n",
    "import numpy as np\n",
    "import matplotlib.pyplot as plt\n",
    "from gensim.models import Word2Vec \n",
    "from scipy.stats import pearsonr\n",
    "from nltk.corpus import wordnet\n",
    "from os import path\n",
    "from functools import reduce, partial\n",
    "from itertools import starmap\n",
    "import pandas as pd\n",
    "import nltk\n",
    "from nltk.tokenize import word_tokenize"
   ]
  },
  {
   "cell_type": "code",
   "execution_count": 212,
   "metadata": {},
   "outputs": [
    {
     "name": "stderr",
     "output_type": "stream",
     "text": [
      "[nltk_data] Downloading package punkt to\n",
      "[nltk_data]     C:\\Users\\ThinkPad\\AppData\\Roaming\\nltk_data...\n",
      "[nltk_data]   Package punkt is already up-to-date!\n",
      "[nltk_data] Downloading package wordnet to\n",
      "[nltk_data]     C:\\Users\\ThinkPad\\AppData\\Roaming\\nltk_data...\n",
      "[nltk_data]   Package wordnet is already up-to-date!\n",
      "[nltk_data] Downloading package stopwords to\n",
      "[nltk_data]     C:\\Users\\ThinkPad\\AppData\\Roaming\\nltk_data...\n",
      "[nltk_data]   Package stopwords is already up-to-date!\n"
     ]
    },
    {
     "data": {
      "text/plain": [
       "True"
      ]
     },
     "execution_count": 212,
     "metadata": {},
     "output_type": "execute_result"
    }
   ],
   "source": [
    "# Download resources for NLTK \n",
    "nltk.download('punkt')\n",
    "nltk.download('wordnet')\n",
    "nltk.download('stopwords')"
   ]
  },
  {
   "cell_type": "markdown",
   "metadata": {},
   "source": [
    "# Datasets"
   ]
  },
  {
   "cell_type": "code",
   "execution_count": 194,
   "metadata": {},
   "outputs": [],
   "source": [
    "def datamuse(query):\n",
    "    # http://www.datamuse.com/api/\n",
    "    url = \"https://api.datamuse.com/words?ml=\" + query + \"&max=75\" #max = number of results to return\n",
    "    response = requests.get(url)\n",
    "    similar_words = [x['word'] for x in json.loads(response.content)]\n",
    "    return similar_words"
   ]
  },
  {
   "cell_type": "code",
   "execution_count": 195,
   "metadata": {},
   "outputs": [],
   "source": [
    "def load_sim_eval(name):\n",
    "    with open('datasets/sim-eval-master/datasets/{name}.csv'.format(name=name), newline='') as csvfile:\n",
    "        reader = csv.reader(csvfile, delimiter=';')\n",
    "        rows = []\n",
    "        for row in reader: rows.append(row)\n",
    "        return rows # [[word1, word2, similarity], ...] "
   ]
  },
  {
   "cell_type": "code",
   "execution_count": 196,
   "metadata": {},
   "outputs": [],
   "source": [
    "def load_stss131():\n",
    "    # https://www.researchgate.net/publication/262411640_A_new_benchmark_dataset_with_production_methodology_for_short_text_semantic_similarity_algorithms\n",
    "    with open('datasets/stss-131/stss.csv', newline='') as csvfile:\n",
    "        reader = csv.reader(csvfile, delimiter=';')\n",
    "        rows = []\n",
    "        for row in reader: rows.append(row)\n",
    "        return rows # [[index, sentence1, sentence2, avg similarity, standard deviation], ...]"
   ]
  },
  {
   "cell_type": "markdown",
   "metadata": {},
   "source": [
    "# Similarity measures"
   ]
  },
  {
   "cell_type": "code",
   "execution_count": 230,
   "metadata": {},
   "outputs": [],
   "source": [
    "def jaccard_similarity(word_list1, word_list2):\n",
    "    if (len(word_list1) == 0 and len(word_list2) == 0): return 1\n",
    "    intersection = len(set(word_list1).intersection(word_list2))\n",
    "    union = len(set(word_list1).union(word_list2))\n",
    "    return intersection / union\n",
    "\n",
    "def word2vec_similarity(word_list1, word_list2):\n",
    "    return\n",
    "\n",
    "def glove_similarity(word_list1, word_list2):\n",
    "    # import glove\n",
    "    # Available glove datasets\n",
    "    #glove.GLOVE_DATASETS\n",
    "    # Select the dataset\n",
    "    #ds = glove.GLOVE_DATASETS['50d']\n",
    "    # Load the dataset to pandas dataframe\n",
    "    #words = glove.load_words(ds)\n",
    "    # Get one\n",
    "    # words.loc['morning']\n",
    "    # Get multiple\n",
    "    #words.loc[['morning','peth']]\n",
    "    return\n",
    "\n",
    "def fasttext_similarity(word_list1, word_list2):\n",
    "    return\n",
    "\n",
    "def yago_similarity(word_list1, word_list2):\n",
    "    return\n",
    "\n",
    "def dbpedia_similarity(word_list1, word_list2):\n",
    "    return"
   ]
  },
  {
   "cell_type": "markdown",
   "metadata": {},
   "source": [
    "# Write Datamuse output to files"
   ]
  },
  {
   "cell_type": "code",
   "execution_count": 198,
   "metadata": {},
   "outputs": [],
   "source": [
    "def get_ml(w,c):\n",
    "    \"\"\" Get a function for querying the related words \"\"\"\n",
    "    return [lambda: datamuse(\n",
    "       \"{word}&max={count}\"\n",
    "       .format(word=w,count=c)\n",
    "    ), w]\n",
    "\n",
    "def relations_to_file(fn, word):\n",
    "    \"\"\"\n",
    "    fn: query function\n",
    "    word\n",
    "    \"\"\"\n",
    "    filename = \"./related-words/{}.ml\".format(word)\n",
    "        \n",
    "    with open(filename, 'w') as f:\n",
    "        \"\"\" \n",
    "        Query the related words one at a time \n",
    "        when required for writing to file \n",
    "        \"\"\"\n",
    "        for word in fn():\n",
    "            f.write(word)\n",
    "            f.write('\\n')\n",
    "            \n",
    "    return filename\n",
    "\n",
    "def collect_ml_getters(dataset_fn, count=100):\n",
    "    \"\"\" Collect the getters for lazy evaluation \"\"\"\n",
    "    return reduce(lambda acc, fns: acc + fns, [\n",
    "        [get_ml(f,count), get_ml(s,count)]\n",
    "        for f, s, _ \n",
    "        in dataset_fn()\n",
    "    ], [])\n",
    "\n",
    "def get_and_write_dataset_words_to_files(dataset_fn, count):\n",
    "    \"\"\"works for files that return tuple with three items per row\"\"\"\n",
    "    return list(starmap(\n",
    "        relations_to_file, \n",
    "        collect_ml_getters(dataset_fn, count)\n",
    "    ))\n",
    "\n",
    "def get_ml_to_file(wordlist, count=25):\n",
    "    collected_getters = [get_ml(w, count) for w in list(wordlist)]\n",
    "    return list(starmap(relations_to_file, collected_getters))\n",
    "\n",
    "# write sim-eval files with\n",
    "# get_and_write_dataset_words_to_files(lambda: load_sim_eval(\"mc\"), count=100)"
   ]
  },
  {
   "cell_type": "code",
   "execution_count": 245,
   "metadata": {},
   "outputs": [],
   "source": [
    "def get_all_tokens(list_of_sentences):\n",
    "    return reduce(\n",
    "        lambda a,t: a +t, \n",
    "        [word_tokenize(s) \n",
    "         for s \n",
    "         in list_of_sentences],\n",
    "        []\n",
    "    )\n",
    "\n",
    "def clean_token(word):\n",
    "    clean1 = re.sub('^[^a-zA-Z]*', \"\", word)\n",
    "    clean2 = re.sub('[€0-9â™©]',\"\", clean1)\n",
    "    return re.sub('[^a-zA-Z]*$', \"\", clean2).lower()\n",
    "\n",
    "data = pd.DataFrame(load_stss131(), columns=['0', 's1','s2','similarity','4']).drop(columns=['0', '4'])\n",
    "stss131_all_sentences = data['s1'] + ' ' + data['s2']\n",
    "stss131_uniq_tokens = list(\n",
    "    set(reduce(\n",
    "        lambda a,w: a+w,\n",
    "        [\n",
    "            w.split('.') \n",
    "            for w \n",
    "            in get_all_tokens(stss131_all_sentences)], \n",
    "        []\n",
    "    )\n",
    "))\n",
    "stopwords = nltk.corpus.stopwords.words('english')\n",
    "for word in stopwords:\n",
    "    if \"'\" in word:\n",
    "        stopwords.append(word.replace(\"'\", \"\")) \n",
    "stopwords.append(\"n't\")\n",
    "stemmer = nltk.stem.snowball.SnowballStemmer('english')\n",
    "a = set(stss131_uniq_tokens)\n",
    "b = set(stopwords)\n",
    "stss131_without_stopwords = list(a.difference(b))\n",
    "stss131_without_stopwords = set(stss131_uniq_tokens).difference(set(stopwords))\n",
    "cleaned_tokens = [clean_token(w) for w in stss131_without_stopwords]\n",
    "cleaned_without_empty = [w for w in cleaned_tokens if len(w) > 0]\n",
    "duplicates_removed = list(set(cleaned_without_empty))\n",
    "downloaded = set([w.replace('.ml', '').lower() for w in os.listdir('./related-words')])\n",
    "stss131_unique_cleaned_tokens = list(set(duplicates_removed).difference(set(downloaded)).difference(set(stopwords)))\n",
    "stss131_valid_tokens = list(filter(lambda x: len(x) > 2, set(duplicates_removed).difference(set(stopwords))))\n",
    "\n",
    "# write stss131 files with\n",
    "# get_ml_to_file(stss131_unique_cleaned_tokens, count=100)"
   ]
  },
  {
   "cell_type": "code",
   "execution_count": 200,
   "metadata": {},
   "outputs": [],
   "source": [
    "def related_words(word):\n",
    "    path = './related-words/'+word+'.ml'\n",
    "    if (os.path.isfile(path)):\n",
    "        with open(path, 'r') as f:\n",
    "            return np.array([ l.replace(\"\\n\", \"\") for l in f])      \n",
    "    else:\n",
    "        return np.array([])\n",
    "# load the related words with\n",
    "# related_words(\"automobile\")"
   ]
  },
  {
   "cell_type": "markdown",
   "metadata": {},
   "source": [
    "# Correlation"
   ]
  },
  {
   "cell_type": "code",
   "execution_count": 201,
   "metadata": {
    "scrolled": true
   },
   "outputs": [],
   "source": [
    "def calc_sim_eval_correlation(data):\n",
    "    def f(number_of_outputs):\n",
    "        similarity = lambda row: jaccard_similarity(\n",
    "            related_words(row[0])[:number_of_outputs], \n",
    "            related_words(row[1])[:number_of_outputs]\n",
    "        )\n",
    "        datamuse_similarity = np.apply_along_axis(similarity, 1, data)\n",
    "        ground_truth = data.transpose()[2].astype(np.float)\n",
    "        return pearsonr(datamuse_similarity, ground_truth)[0]\n",
    "    return f"
   ]
  },
  {
   "cell_type": "code",
   "execution_count": 202,
   "metadata": {},
   "outputs": [
    {
     "data": {
      "text/plain": [
       "Text(0, 0.5, 'Correlation')"
      ]
     },
     "execution_count": 202,
     "metadata": {},
     "output_type": "execute_result"
    },
    {
     "data": {
      "image/png": "[encoded data removed]",
      "text/plain": [
       "<Figure size 432x288 with 1 Axes>"
      ]
     },
     "metadata": {
      "needs_background": "light"
     },
     "output_type": "display_data"
    }
   ],
   "source": [
    "# MC\n",
    "n = np.arange(1, 100, 1)\n",
    "corr = np.vectorize(calc_sim_eval_correlation(np.array(load_sim_eval(\"mc\"))))(n)\n",
    "plt.scatter(n, corr)\n",
    "plt.axvline(x=n[np.argmax(corr)], color=\"red\")\n",
    "plt.xlabel(\"Number of outputs\")\n",
    "plt.ylabel(\"Correlation\")"
   ]
  },
  {
   "cell_type": "code",
   "execution_count": 216,
   "metadata": {},
   "outputs": [
    {
     "name": "stdout",
     "output_type": "stream",
     "text": [
      "0.6670163964485691\n"
     ]
    }
   ],
   "source": [
    "# RG \n",
    "corr = calc_sim_eval_correlation(np.array(load_sim_eval('rg')))(25)\n",
    "print(corr)"
   ]
  },
  {
   "cell_type": "code",
   "execution_count": 228,
   "metadata": {},
   "outputs": [
    {
     "name": "stdout",
     "output_type": "stream",
     "text": [
      "0.3653332576134618\n"
     ]
    }
   ],
   "source": [
    "# wordsim \n",
    "corr = calc_sim_eval_correlation(np.array(load_sim_eval('wordsim')))(25)\n",
    "print(corr)"
   ]
  },
  {
   "cell_type": "code",
   "execution_count": 259,
   "metadata": {},
   "outputs": [
    {
     "data": {
      "text/plain": [
       "Text(0.5, 0, 'Number of outputs')"
      ]
     },
     "execution_count": 259,
     "metadata": {},
     "output_type": "execute_result"
    },
    {
     "data": {
      "image/png": "[encoded data removed]",
      "text/plain": [
       "<Figure size 432x288 with 1 Axes>"
      ]
     },
     "metadata": {
      "needs_background": "light"
     },
     "output_type": "display_data"
    }
   ],
   "source": [
    "# stss131 \n",
    "\n",
    "def sentence_to_related_words_union(sent, number_of_outputs):\n",
    "    tokens = list(set([clean_token(x) for x in sent.split(' ') if (clean_token(x) in stss131_valid_tokens)]))\n",
    "    rel_words_union = list(set([x for l in map(related_words, tokens) for x in l[:number_of_outputs]]))\n",
    "    return np.array(list(set(tokens + rel_words_union)))\n",
    "   \n",
    "def sentence_to_related_words_overlap(sent, number_of_outputs):\n",
    "    tokens = list(set([clean_token(x) for x in sent.split(' ') if (clean_token(x) in stss131_valid_tokens)]))\n",
    "    rel_words = list(map(lambda w: related_words(w)[:number_of_outputs], tokens))\n",
    "    rel_words_intersected = list(set(rel_words[0]).intersection(*rel_words))\n",
    "    return np.array(list(set(tokens + rel_words_intersected)))\n",
    "        \n",
    "def calc_stss131_correlation(number_of_outputs):\n",
    "    data = np.array(load_stss131())\n",
    "    similarity = lambda row: jaccard_similarity(\n",
    "        sentence_to_related_words_union(row[1], number_of_outputs), \n",
    "        sentence_to_related_words_union(row[2], number_of_outputs)\n",
    "    )\n",
    "    datamuse_similarity = np.apply_along_axis(similarity, 1, data)\n",
    "    ground_truth = data.transpose()[3].astype(np.float)\n",
    "    return pearsonr(datamuse_similarity, ground_truth)[0]\n",
    "\n",
    "n = np.arange(1, 100, 1)\n",
    "corr = np.vectorize(calc_stss131_correlation)(n)\n",
    "plt.scatter(n, corr)\n",
    "plt.axvline(x=n[np.argmax(corr)], color=\"red\")\n",
    "plt.xlabel(\"Number of outputs\")\n",
    "plt.ylabel(\"Correlation\")"
   ]
  },
  {
   "cell_type": "markdown",
   "metadata": {},
   "source": [
    "# Random stuff"
   ]
  },
  {
   "cell_type": "code",
   "execution_count": null,
   "metadata": {},
   "outputs": [],
   "source": [
    "uniq_wordsim = set(reduce(lambda x,y: x + y, [ [a,b] for a,b,x in wordsim ], []))\n",
    "collected_getters = [get_ml(w, 25) for w in list(uniq_wordsim)]\n",
    "\n",
    "def load_unique_words_to_file(name):\n",
    "    uniq_wordsim = set(reduce(lambda x,y: x + y, [ [a,b] for a,b,x in load_dataset(name) ], []))\n",
    "    get_ml_to_file(uniq_wordsim)\n",
    "    \n",
    "load_unique_words_to_file('rg')"
   ]
  },
  {
   "cell_type": "code",
   "execution_count": null,
   "metadata": {},
   "outputs": [],
   "source": [
    "list(\n",
    "    set(duplicates_removed).difference(set(downloaded)).difference(set(stopwords)))"
   ]
  },
  {
   "cell_type": "code",
   "execution_count": null,
   "metadata": {},
   "outputs": [],
   "source": [
    "def tokenize_sentence(sentence, stopwords):\n",
    "    tokens = [w for w in [clean_token(t) for t in word_tokenize(sentence)] if len(w) > 0]\n",
    "    #return tokens\n",
    "    return list(set(tokens).difference(stopwords))"
   ]
  },
  {
   "cell_type": "code",
   "execution_count": null,
   "metadata": {},
   "outputs": [],
   "source": [
    "def pad_a(arr, c=25, padwith=None):\n",
    "    if (len(arr) == 25):\n",
    "        return arr\n",
    "    else:\n",
    "        return np.array(arr) + np.array([padwith]) * (c-len(arr))"
   ]
  },
  {
   "cell_type": "code",
   "execution_count": null,
   "metadata": {},
   "outputs": [],
   "source": [
    "def pad_a(arr, c=25, padwith=None):\n",
    "    return np.array(arr) + np.array([padwith]) * (c-len(arr))"
   ]
  },
  {
   "cell_type": "code",
   "execution_count": null,
   "metadata": {},
   "outputs": [],
   "source": [
    "def pad_a(arr, c=25, padwith=None):\n",
    "    return arr + [padwith] * (c-len(arr))"
   ]
  }
 ],
 "metadata": {
  "kernelspec": {
   "display_name": "Python 3",
   "language": "python",
   "name": "python3"
  },
  "language_info": {
   "codemirror_mode": {
    "name": "ipython",
    "version": 3
   },
   "file_extension": ".py",
   "mimetype": "text/x-python",
   "name": "python",
   "nbconvert_exporter": "python",
   "pygments_lexer": "ipython3",
   "version": "3.7.6"
  }
 },
 "nbformat": 4,
 "nbformat_minor": 4
}
